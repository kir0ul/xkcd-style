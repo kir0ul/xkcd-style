{
 "cells": [
  {
   "cell_type": "code",
   "execution_count": 1,
   "metadata": {},
   "outputs": [],
   "source": [
    "import numpy as np\n",
    "from scipy import interpolate\n",
    "import matplotlib.pyplot as plt\n",
    "\n",
    "plt.xkcd()\n",
    "rcParams = plt.rcParams\n",
    "font_size = 14\n",
    "rcParams[\"font.size\"] = font_size\n",
    "rcParams[\"axes.labelsize\"] = font_size\n",
    "rcParams[\"xtick.labelsize\"] = font_size\n",
    "rcParams[\"ytick.labelsize\"] = font_size\n",
    "rcParams[\"legend.fontsize\"] = font_size"
   ]
  },
  {
   "cell_type": "code",
   "execution_count": 2,
   "metadata": {},
   "outputs": [
    {
     "data": {
      "application/vnd.jupyter.widget-view+json": {
       "model_id": "130fa5b483d0463a8ff986d26e303f81",
       "version_major": 2,
       "version_minor": 0
      },
      "text/plain": [
       "Canvas(toolbar=Toolbar(toolitems=[('Home', 'Reset original view', 'home', 'home'), ('Back', 'Back to previous …"
      ]
     },
     "metadata": {},
     "output_type": "display_data"
    }
   ],
   "source": [
    "# Raw data\n",
    "y1 = np.array(\n",
    "    [1, 1, 2, 1, 1, 1, 2, 10, 12, 10, 9.5, 8.5, 7.5, 7, 5, 4, 3, 2, 1, 2, 1, 1, 1]\n",
    ")\n",
    "x1 = np.linspace(0, 50, len(y1))\n",
    "y2 = np.array([1, 1, 2, 1, 1, 1, 2, 10, 5, 2, 1, 2, 1, 1.5, 1, 1.5, 1, 1, 1, 2, 1, 2])\n",
    "x2 = np.linspace(0, 50, len(y2))\n",
    "\n",
    "# Smooth the data\n",
    "tck1 = interpolate.splrep(x1, y1, s=0)\n",
    "x_spline1 = np.linspace(min(x1), max(x1), 300)\n",
    "y_spline1 = interpolate.splev(x_spline1, tck1, der=0)\n",
    "tck2 = interpolate.splrep(x2, y2, s=0)\n",
    "x_spline2 = np.linspace(min(x2), max(x2), 300)\n",
    "y_spline2 = interpolate.splev(x_spline2, tck2, der=0)\n",
    "\n",
    "\n",
    "%matplotlib widget\n",
    "fig, ax = plt.subplots(figsize=(10, 6))\n",
    "plt.plot(x_spline1, y_spline1, x_spline2, y_spline2)\n",
    "plt.tick_params(\n",
    "    axis=\"both\",\n",
    "    which=\"both\",\n",
    "    bottom=False,\n",
    "    left=False,\n",
    "    labelbottom=False,\n",
    "    labelleft=False,\n",
    ")\n",
    "ax.axhline(1.5, linestyle=\"--\", color=\"grey\")\n",
    "# ax.axvline(13, linestyle=\"--\", color=\"grey\")\n",
    "plt.text(2, 2, \"Baseline\", fontdict={\"color\": \"grey\"})\n",
    "fifty_line = plt.Line2D([14, 24], [5, 5], color=\"r\", marker=\"|\")\n",
    "ax.add_line(fifty_line)\n",
    "plt.text(18, 5.5, \"50%\", fontdict={\"color\": \"r\"})\n",
    "plt.show()"
   ]
  }
 ],
 "metadata": {
  "kernelspec": {
   "display_name": "simon",
   "language": "python",
   "name": "simon"
  },
  "language_info": {
   "codemirror_mode": {
    "name": "ipython",
    "version": 3
   },
   "file_extension": ".py",
   "mimetype": "text/x-python",
   "name": "python",
   "nbconvert_exporter": "python",
   "pygments_lexer": "ipython3",
   "version": "3.7.6"
  }
 },
 "nbformat": 4,
 "nbformat_minor": 4
}
